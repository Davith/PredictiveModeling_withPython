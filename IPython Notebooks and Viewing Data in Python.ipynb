{
 "cells": [
  {
   "cell_type": "code",
   "execution_count": 1,
   "metadata": {
    "collapsed": false,
    "scrolled": true
   },
   "outputs": [
    {
     "name": "stdout",
     "output_type": "stream",
     "text": [
      "I can perform computation. 3 + 5 is 8\n"
     ]
    }
   ],
   "source": [
    "# The grey boxes are called cells.  They contain python code.  \n",
    "print \"I can perform computation. 3 + 5 is\", 3 + 5 \n",
    "\n",
    "# You can run a cell by cliking on it, and then clicking the play button \n",
    "# in the menu bar up top or pressing shift-enter."
   ]
  },
  {
   "cell_type": "code",
   "execution_count": 2,
   "metadata": {
    "collapsed": true
   },
   "outputs": [],
   "source": [
    "# That creates a new cell as well.  An iPython notebook is just a series of cells.\n",
    "\n",
    "# There are three types of cells:\n",
    "#   Code cells\n",
    "#   Markdown cells\n",
    "#   Raw cells\n",
    "\n",
    "# You'll probably only use the first two."
   ]
  },
  {
   "cell_type": "code",
   "execution_count": 3,
   "metadata": {
    "collapsed": true
   },
   "outputs": [],
   "source": [
    "# Every new cell starts its life as a code cell.  Code cells are treated as Python code.\n",
    "# Markdown cells are useful for writing formatted text.  \n",
    "# Raw cells are used in a few avanced use cases which we won't really cover here.\n",
    "\n",
    "# You can convert a cell from a code cell to a markdown cell by selecting Cell > Cell Type > Markdown\n",
    "# from the menu above, or pressing 'm' in command mode."
   ]
  },
  {
   "cell_type": "markdown",
   "metadata": {},
   "source": [
    "## Markdown Cells\n",
    "Ahh, there.  That's better.  Now I don't have to type everything in Python comments.\n",
    "Markdown cells are useful for documenting your process as you build an iPython notebook."
   ]
  },
  {
   "cell_type": "markdown",
   "metadata": {
    "collapsed": true
   },
   "source": [
    "## Outline:\n",
    "* Installation intructions + python tutorial\n",
    "* Markdown\n",
    "  * Headings\n",
    "  * Lists\n",
    "  * Links\n",
    "  * Images\n",
    "  * LaTex\n",
    "  * HTML if needed\n",
    "* Navigating / Keyboard Shortcuts\n",
    "  * Help >> Keyboard Shortcuts\n",
    "  * Entering a cell (enter)\n",
    "  * Leaving a cell (esc)\n",
    "  * Navigating between cells (up; down)\n",
    "  * Code / Markdown (Y; M)\n",
    "  * Evaluating a cell (alt+enter; ctrl+enter)\n",
    "  * Delete (d, d)\n",
    "* Out of order execution\n",
    "  * Show failure on reload\n",
    "* Viewing Data in Python\n",
    "  * Pandas is like the R dataframe\n",
    "  * Loading Data\n",
    "  * Viewing Data\n",
    "  * Merge\n",
    "* Matplotlib?"
   ]
  }
 ],
 "metadata": {
  "celltoolbar": "Raw Cell Format",
  "kernelspec": {
   "display_name": "Python 2",
   "language": "python",
   "name": "python2"
  },
  "language_info": {
   "codemirror_mode": {
    "name": "ipython",
    "version": 2
   },
   "file_extension": ".py",
   "mimetype": "text/x-python",
   "name": "python",
   "nbconvert_exporter": "python",
   "pygments_lexer": "ipython2",
   "version": "2.7.9"
  }
 },
 "nbformat": 4,
 "nbformat_minor": 0
}
