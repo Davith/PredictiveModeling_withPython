{
 "cells": [
  {
   "cell_type": "markdown",
   "metadata": {},
   "source": [
    "## Predictive Modeling with Python - _IPython Notebooks and Viewing Data in Python_\n",
    "#### Author: Kevin Bache"
   ]
  },
  {
   "cell_type": "markdown",
   "metadata": {},
   "source": [
    "## Outline\n",
    "1. Python\n",
    "2. IPython Notebooks\n",
    "3. Pandas\n",
    "4. Loading Data\n",
    "5. Plotting Data"
   ]
  },
  {
   "cell_type": "markdown",
   "metadata": {},
   "source": [
    "## Python and IPython\n",
    "* `python` is a programming language and also the name of the program that runs python programs\n",
    "* If you're running scripts from the command line like this: you can use either `ipython` with something like `ipython my_script.py` or `python` with something like `python my_script.py`\n",
    "* If you're using the command line interpreter interactively to load and explore data, try out a new package, etc. always use `ipython` over `python`.  This is because `ipython` has a bunch of features that are just plain great:"
   ]
  },
  {
   "cell_type": "markdown",
   "metadata": {},
   "source": [
    "### IPython Goodies\n",
    "\n",
    "|Run this                     |Get This          |\n",
    "|-----------------------------|------------------|\n",
    "|`import numpy`               | Nothing.  Just run it so the code below works. |\n",
    "|`numpy.ar` (then tab)        | Tab completion!  |\n",
    "|`?numpy.arange` (then 'q')   | Easy help!       |\n",
    "|`x = !ls; print x`           | Access to shell! |"
   ]
  },
  {
   "cell_type": "markdown",
   "metadata": {},
   "source": [
    "### Python and IPython Exercise - 10 Minutes:\n",
    "1. Partner up with someone next to you.  On one of your computers:\n",
    "  1. Start two terminal windows and cd in each to the directory where you stored the course files\n",
    "  1. Start python in one terminal and ipython in the other terminal\n",
    "  1. In each terminal:\n",
    "    1. Write a small program which prints the numbers 1 through 10\n",
    "    1. Try the commands in the table above\n",
    "  1. Write a small program in ipython to print out the names of all ipython notebook files in the course directory.  \n",
    "     **Hint**: IPython notebook files end with \".ipynb\""
   ]
  },
  {
   "cell_type": "markdown",
   "metadata": {},
   "source": [
    "## IPython Notebook\n",
    "* IPython notebook is an interactive front-end to ipython which lets you combine snippets of python code with explanations, images, videos, whatever.  \n",
    "* It's also really convenient for conveying experimental results.\n",
    "\n",
    "### IPython Notebook Exercise 1 - 5 Minutes:\n",
    "1. Start a terminal window and cd to the directory where you stored the course files\n",
    "1. Start the IPython Notebook server with the command `ipython notebook`.  The IPython notebook server runs your python code behind the scenes and renders the output into the notebook\n",
    "1. Create a new notebook by clicking New (top right) >> Python 2 Notebook\n",
    "\n",
    "### Notebook Concepts\n",
    "* **Cells** -- That grey box is called a cell.  An IPython notebook is nothing but a series of cells.  \n",
    "* **Selecting** -- You can tell if you have a cell selected because it will have a thin, black box around it.\n",
    "* **Running a Cell** -- Running a cell displays its output.  You can run a cell by pressing **`shift + enter`** while it's selected (or click the play button toward the top of the screen). \n",
    "* **Modes** -- There are two different ways of having a cell selected:\n",
    "  * **Command Mode** -- Lets you delete a cell (press **`d`** twice) and change its type (more on this in a second).\n",
    "  * **Edit Mode** -- Lets you change the contents of a cell.\n",
    "  * **`Esc`** -- Changes from edit mode to command mode.\n",
    "  * **`Enter`** -- Changes from command mode to edit mode.\n",
    "\n",
    "### IPython Notebook Exercise 2 - 10 Minutes:\n",
    "1. Click Help >> User Interface Tour and take the tour\n",
    "1. Click Help >> Keyboard Shortcuts.  Mice are for suckers.\n",
    "1. Write and run a small program in the first cell to print out the the full path and name of every file in the current directory.  \n",
    "  **Hint:** the command `pwd` will 'print the current directory in linux or mac.  `echo %cd%` does something similar on windows.\n",
    "\n",
    "### More Notebook Concepts\n",
    "* **Cell Types** -- There are 3 types of cells: python, markdown, and raw.\n",
    "  * **Python Cells** -- Contain python code. Running a python cell displays its output. Press **`y`** in command mode convert any selected cell into a python cell. All cells start their lives as python cells.\n",
    "  * **Markdown Cells** -- Contain formatted text, lists, links, etc. Press **`m`** in command mode to convert the selected cell into a markdown cell.\n",
    "  * **Raw Cells** -- Useful for a few advanced corner cases.  We won't deal with these at all today.\n",
    "  \n",
    "### IPython Notebook Exercise 3 - 10 Minutes:\n",
    "1. Partner up with someone next to you\n",
    "  1. Check out this [Markdown Cheat Sheet](https://github.com/adam-p/markdown-here/wiki/Markdown-Cheatsheet).  Markdown is a set of simple commands for formatting text to make it pretty.  It isn't specific to IPython Notebooks; it's used all over (for example, a lot of blogging platforms let you write your content in markdown because it's easy and HTML is a pain in the butt).\n",
    "  1. Check out this [stackoverflow post](http://stackoverflow.com/questions/13208286/how-to-write-latex-in-ipython-notebook) about using LaTex in IPython Notebooks.\n",
    "  1. Create and render a markdown cell which contains bold text, a nested numbered list, a working link to UCI's website, an image, a table, some rendered LaTex, and a youtube video."
   ]
  },
  {
   "cell_type": "markdown",
   "metadata": {},
   "source": [
    "## Numpy\n",
    "Numpy is the main package that you'll use for doing scientific computing in Python.  Numpy provides a multidimensional array datatype called `ndarray` which can do things like vector and matrix computations."
   ]
  },
  {
   "cell_type": "code",
   "execution_count": 26,
   "metadata": {
    "collapsed": false,
    "scrolled": false
   },
   "outputs": [
    {
     "name": "stdout",
     "output_type": "stream",
     "text": [
      "a:\n",
      "[1 4 6]\n",
      "a.shape: (3,)\n",
      "\n",
      "b:\n",
      "[[6 7]\n",
      " [3 1]\n",
      " [4 0]]\n",
      "b.shape: (3, 2)\n",
      "\n"
     ]
    }
   ],
   "source": [
    "# you don't have to rename numpy to np but it's customary to do so\n",
    "import numpy as np\n",
    "\n",
    "# you can create a 1-d array with a list of numbers\n",
    "a = np.array([1, 4, 6])\n",
    "print 'a:'\n",
    "print a\n",
    "print 'a.shape:', a.shape\n",
    "print \n",
    "\n",
    "# you can create a 2-d array with a list of lists of numbers\n",
    "b = np.array([[6, 7], [3, 1], [4, 0]])\n",
    "print 'b:'\n",
    "print b\n",
    "print 'b.shape:', b.shape\n",
    "print"
   ]
  },
  {
   "cell_type": "code",
   "execution_count": 29,
   "metadata": {
    "collapsed": false
   },
   "outputs": [
    {
     "name": "stdout",
     "output_type": "stream",
     "text": [
      "np.ones(3, 4):\n",
      "[[ 1.  1.  1.  1.]\n",
      " [ 1.  1.  1.  1.]\n",
      " [ 1.  1.  1.  1.]]\n",
      "\n",
      "np.zeros(2, 5):\n",
      "[[ 0.  0.  0.  0.  0.]\n",
      " [ 0.  0.  0.  0.  0.]]\n",
      "\n",
      "np.arange(6):\n",
      "[0 1 2 3 4 5]\n",
      "\n",
      "np.arange(6).reshape(2, 3):\n",
      "[[0 1 2]\n",
      " [3 4 5]]\n",
      "\n",
      "b and b.T:\n",
      "[[6 7]\n",
      " [3 1]\n",
      " [4 0]]\n",
      "\n",
      "[[6 3 4]\n",
      " [7 1 0]]\n"
     ]
    }
   ],
   "source": [
    "# you can create an array of ones\n",
    "print 'np.ones(3, 4):'\n",
    "print np.ones((3, 4))\n",
    "print\n",
    "\n",
    "# you can create an array of zeros\n",
    "print 'np.zeros(2, 5):'\n",
    "print np.zeros((2, 5))\n",
    "print\n",
    "\n",
    "# you can create an array which of a range of numbers and reshape it\n",
    "print 'np.arange(6):'\n",
    "print np.arange(6)\n",
    "print \n",
    "print 'np.arange(6).reshape(2, 3):'\n",
    "print np.arange(6).reshape(2, 3)\n",
    "print\n",
    "\n",
    "# you can take the transpose of a matrix with .transpose or .T\n",
    "print 'b and b.T:'\n",
    "print b\n",
    "print \n",
    "print b.T"
   ]
  },
  {
   "cell_type": "code",
   "execution_count": 5,
   "metadata": {
    "collapsed": false
   },
   "outputs": [
    {
     "name": "stdout",
     "output_type": "stream",
     "text": [
      "row 0 :  [6 7]\n",
      "row 1 :  [3 1]\n",
      "row 2 :  [4 0]\n",
      "\n",
      "first two rows of the first column of b:\n",
      "[6 3]\n",
      "\n"
     ]
    }
   ],
   "source": [
    "# you can iterate over rows\n",
    "i = 0\n",
    "for this_row in b:\n",
    "    print 'row', i, ': ', this_row\n",
    "    i += 1 \n",
    "print \n",
    "    \n",
    "# you can access sections of an array with slices\n",
    "print 'first two rows of the first column of b:'\n",
    "print b[:2, 0]\n",
    "print"
   ]
  },
  {
   "cell_type": "code",
   "execution_count": 6,
   "metadata": {
    "collapsed": false
   },
   "outputs": [
    {
     "name": "stdout",
     "output_type": "stream",
     "text": [
      "np.hstack(b, b):\n",
      "[[6 7 6 7]\n",
      " [3 1 3 1]\n",
      " [4 0 4 0]]\n",
      "\n",
      "np.vstack(b, b):\n",
      "[[6 7]\n",
      " [3 1]\n",
      " [4 0]\n",
      " [6 7]\n",
      " [3 1]\n",
      " [4 0]]\n",
      "\n"
     ]
    }
   ],
   "source": [
    "# you can concatenate arrays in various ways:\n",
    "print 'np.hstack(b, b):'\n",
    "print np.hstack([b, b])\n",
    "print\n",
    "\n",
    "print 'np.vstack(b, b):'\n",
    "print np.vstack([b, b])\n",
    "print"
   ]
  },
  {
   "cell_type": "code",
   "execution_count": 7,
   "metadata": {
    "collapsed": false
   },
   "outputs": [
    {
     "name": "stdout",
     "output_type": "stream",
     "text": [
      "c = np.dot(a, b):\n",
      "[42 11]\n",
      "\n",
      "d = b * b:\n",
      "[[36 49]\n",
      " [ 9  1]\n",
      " [16  0]]\n",
      "\n"
     ]
    }
   ],
   "source": [
    "# you can perform matrix multiplication with np.dot()\n",
    "c = np.dot(a, b)\n",
    "print 'c = np.dot(a, b):'\n",
    "print c\n",
    "print\n",
    "\n",
    "# you can perform element-wise multiplication with * \n",
    "d = b * b\n",
    "print 'd = b * b:'\n",
    "print d\n",
    "print"
   ]
  },
  {
   "cell_type": "code",
   "execution_count": 8,
   "metadata": {
    "collapsed": false
   },
   "outputs": [
    {
     "name": "stdout",
     "output_type": "stream",
     "text": [
      "inverse of [[1, 2],[3, 4]]:\n",
      "[[-2.   1. ]\n",
      " [ 1.5 -0.5]]\n",
      "\n"
     ]
    }
   ],
   "source": [
    "# numpy provides a ton of other functions for working with matrices\n",
    "m = np.array([[1, 2],[3, 4]])\n",
    "m_inverse = np.linalg.inv(m)\n",
    "print 'inverse of [[1, 2],[3, 4]]:'\n",
    "print m_inverse\n",
    "print"
   ]
  },
  {
   "cell_type": "code",
   "execution_count": 25,
   "metadata": {
    "collapsed": false
   },
   "outputs": [
    {
     "name": "stdout",
     "output_type": "stream",
     "text": [
      "a matrix with random entries drawn from a Normal(0, 1) distribution:\n",
      "[[-0.21419122 -0.57932387  0.33263115  0.27715253]\n",
      " [ 0.87316214 -1.64853763 -1.23298655 -2.03310698]\n",
      " [-0.00939049  0.23324076  0.86707221 -0.77744329]]\n"
     ]
    }
   ],
   "source": [
    "# and for doing all kinds of sciency type stuff.  like generating random numbers:\n",
    "np.random.seed(5678)\n",
    "n = np.random.randn(3, 4)\n",
    "print 'a matrix with random entries drawn from a Normal(0, 1) distribution:'\n",
    "print n"
   ]
  },
  {
   "cell_type": "markdown",
   "metadata": {
    "collapsed": true
   },
   "source": [
    "## Pandas\n",
    "Pandas is a python package which adds some useful data analysis features to numpy arrays.  Most importantly, it contains a DataFrame data type like the r dataframe.  "
   ]
  },
  {
   "cell_type": "code",
   "execution_count": 38,
   "metadata": {
    "collapsed": false
   },
   "outputs": [
    {
     "name": "stdout",
     "output_type": "stream",
     "text": [
      "b:\n",
      "[[6 7]\n",
      " [3 1]\n",
      " [4 0]]\n",
      "\n",
      "DataFame version of b:\n",
      "   Weight  Height\n",
      "0       6       7\n",
      "1       3       1\n",
      "2       4       0\n",
      "\n"
     ]
    }
   ],
   "source": [
    "# like with numpy, you don't have to rename pandas to pd, but it's customary to do so\n",
    "import pandas as pd\n",
    "\n",
    "df = pd.DataFrame(data=b,  columns=['Weight', 'Height'])\n",
    "print 'b:'\n",
    "print b\n",
    "print \n",
    "print 'DataFame version of b:'\n",
    "print df\n",
    "print"
   ]
  },
  {
   "cell_type": "code",
   "execution_count": 44,
   "metadata": {
    "collapsed": false
   },
   "outputs": [
    {
     "name": "stdout",
     "output_type": "stream",
     "text": [
      "   Salary    AVG    OBP  Runs  Hits  Doubles  Triples  HR  RBI  Walks   SO  \\\n",
      "0    3300  0.272  0.302    69   153       21        4  31  104     22   80   \n",
      "1    2600  0.269  0.335    58   111       17        2  18   66     39   69   \n",
      "2    2500  0.249  0.337    54   115       15        1  17   73     63  116   \n",
      "3    2475  0.260  0.292    59   128       22        7  12   50     23   64   \n",
      "4    2313  0.273  0.346    87   169       28        5   8   58     70   53   \n",
      "\n",
      "   SB  Errs  free agency eligibility  free agent in 1991/2  \\\n",
      "0   4     3                        1                     0   \n",
      "1   0     3                        1                     1   \n",
      "2   6     5                        1                     0   \n",
      "3  21    21                        0                     0   \n",
      "4   3     8                        0                     0   \n",
      "\n",
      "   arbitration eligibility  arbitration in 1991/2            Name  \n",
      "0                        0                      0    Andre Dawson  \n",
      "1                        0                      0   Steve Buchele  \n",
      "2                        0                      0     Kal Daniels  \n",
      "3                        1                      0  Shawon Dunston  \n",
      "4                        1                      0      Mark Grace  \n"
     ]
    }
   ],
   "source": [
    "# Pandas can save and load CSV files.  \n",
    "# Python can do this too, but with Pandas, you get a DataFrame \n",
    "# at the end which understands things like column headings\n",
    "baseball = pd.read_csv('data/baseball.dat.txt', skipinitialspace=True)\n",
    "\n",
    "# A Dataframe's .head() method shows its first 5 rows\n",
    "print baseball.head()"
   ]
  },
  {
   "cell_type": "code",
   "execution_count": 48,
   "metadata": {
    "collapsed": false
   },
   "outputs": [
    {
     "name": "stdout",
     "output_type": "stream",
     "text": [
      "     Salary    AVG    OBP  Runs  Hits  Doubles  Triples  HR  RBI  Walks   SO  \\\n",
      "0      3300  0.272  0.302    69   153       21        4  31  104     22   80   \n",
      "1      2600  0.269  0.335    58   111       17        2  18   66     39   69   \n",
      "2      2500  0.249  0.337    54   115       15        1  17   73     63  116   \n",
      "3      2475  0.260  0.292    59   128       22        7  12   50     23   64   \n",
      "4      2313  0.273  0.346    87   169       28        5   8   58     70   53   \n",
      "5      2175  0.291  0.379   104   170       32        2  26  100     87   89   \n",
      "6       600  0.258  0.370    34    86       14        1  14   38     15   45   \n",
      "7       460  0.228  0.279    16    38        7        2   3   21     11   32   \n",
      "8       240  0.250  0.327    40    61       11        0   1   18     24   26   \n",
      "9       200  0.203  0.240    39    64       10        1  10   33     14   96   \n",
      "10      177  0.262  0.283     7    38        5        0   0   10      5   18   \n",
      "11      140  0.222  0.307    21    45        9        0   6   22     19   56   \n",
      "12      117  0.227  0.280     4     5        2        0   1    3      2    1   \n",
      "13      115  0.261  0.370     1     6        0        0   0    2      4    3   \n",
      "14     2600  0.300  0.368    69   141       22        3  19   75     53   64   \n",
      "15     1907  0.225  0.292    60   130       22        1  13   73     50  100   \n",
      "16     1190  0.255  0.321    39   108       22        8   3   26     42   61   \n",
      "17      990  0.290  0.349    59   141       30        2  16   64     42  102   \n",
      "18      925  0.246  0.323    22    81       14        0   6   26     22   26   \n",
      "19      365  0.208  0.265    12    35       11        1   0   15     14   30   \n",
      "20      302  0.238  0.347    83   134       15        4  10   51     95  151   \n",
      "21      300  0.267  0.310    73   149       23        9   6   39     34   89   \n",
      "22      129  0.353  0.435    16    48       12        2   2   18     20   22   \n",
      "23      111  0.213  0.222     4    13        4        1   1    8      1   18   \n",
      "24     6100  0.302  0.391   102   174       44        6  18  100     90   67   \n",
      "25     4125  0.260  0.321    69   150       23        1  19   96     55   74   \n",
      "26     3213  0.255  0.347    45    71        7        5   1   17     39   47   \n",
      "27     2319  0.259  0.349   108   146       34        4  38  117     78  120   \n",
      "28     2000  0.223  0.307    43    84       10        4  10   40     36   56   \n",
      "29     1600  0.225  0.310    44    96        9        3   0   31     50   69   \n",
      "..      ...    ...    ...   ...   ...      ...      ...  ..  ...    ...  ...   \n",
      "307     205  0.249  0.336    33    46        8        0   3   21     23   42   \n",
      "308     185  0.238  0.289    21    56        5        1   0   21     14   37   \n",
      "309     115  0.235  0.268     9    16        5        0   2    4      3   11   \n",
      "310    3750  0.256  0.338    52    95       13        1  27   69     43   57   \n",
      "311    2188  0.248  0.300    58   139       29        3  17   88     44   61   \n",
      "312    2167  0.254  0.332    95   160       34        6   3   57     72   63   \n",
      "313    2167  0.194  0.286    38    63        8        1   8   32     34   49   \n",
      "314    2050  0.327  0.399    76   179       42        1  22  100     71   82   \n",
      "315    1445  0.244  0.337    64    99       14        4  27   77     53  117   \n",
      "316     875  0.305  0.347    35    54        6        2   6   23     10   27   \n",
      "317     560  0.307  0.405    98   167       35        1  14   52     84   72   \n",
      "318     360  0.230  0.302    42    98       16        4   1   41     45   37   \n",
      "319     162  0.247  0.286    16    44       13        0   2   22      9   38   \n",
      "320     133  0.205  0.272    11    23        2        0   4    9     11   24   \n",
      "321     109  0.216  0.285    38    87       12        0  19   51     35  117   \n",
      "322    4300  0.266  0.359   115   152       32        1  44  122     78  152   \n",
      "323    3850  0.322  0.389   115   203       49        3  26   88     68   72   \n",
      "324    2387  0.341  0.408   108   201       27        3  15   78     65   78   \n",
      "325     950  0.278  0.377    76   113       17        2  17   49     58   70   \n",
      "326     675  0.271  0.339    21    54        8        1   2   20     21   25   \n",
      "327     600  0.252  0.283    44   136       18        4   9   44     25   84   \n",
      "328     287  0.264  0.321    78   144       34        1  27  102     42  118   \n",
      "329     230  0.269  0.332    46   106       22        0  20   69     33   93   \n",
      "330     215  0.194  0.270     8    28        3        2   1   11     16   23   \n",
      "331     183  0.213  0.312    36    57        8        3   2   26     39   32   \n",
      "332     170  0.111  0.138     3     3        0        0   0    1      1    7   \n",
      "333     160  0.264  0.318    24    48        7        0   1   22     15   18   \n",
      "334     142  0.187  0.281    38    50        9        2  15   37     32   98   \n",
      "335     140  0.264  0.270    24    74       16        0   3   27      5   42   \n",
      "336     109  0.258  0.395     6     8        1        0   1    6      7   11   \n",
      "\n",
      "     SB  Errs  free agency eligibility  free agent in 1991/2  \\\n",
      "0     4     3                        1                     0   \n",
      "1     0     3                        1                     1   \n",
      "2     6     5                        1                     0   \n",
      "3    21    21                        0                     0   \n",
      "4     3     8                        0                     0   \n",
      "5    22     4                        1                     0   \n",
      "6     0    10                        1                     0   \n",
      "7     2     3                        0                     0   \n",
      "8    14     2                        0                     0   \n",
      "9    13     6                        0                     0   \n",
      "10    2     7                        0                     0   \n",
      "11    3     3                        0                     0   \n",
      "12    0     0                        0                     0   \n",
      "13    0     0                        0                     0   \n",
      "14   31     7                        1                     0   \n",
      "15    2    14                        1                     0   \n",
      "16    2     8                        0                     0   \n",
      "17   14     6                        1                     0   \n",
      "18    2     5                        1                     0   \n",
      "19    2     6                        0                     0   \n",
      "20   56    27                        0                     0   \n",
      "21   76     6                        0                     0   \n",
      "22    0     5                        0                     0   \n",
      "23    0     0                        0                     0   \n",
      "24    2    15                        1                     1   \n",
      "25   10     7                        1                     1   \n",
      "26   37     3                        1                     0   \n",
      "27   30    31                        1                     0   \n",
      "28    7     4                        1                     0   \n",
      "29    8    15                        1                     1   \n",
      "..   ..   ...                      ...                   ...   \n",
      "307  12     3                        0                     0   \n",
      "308   3    11                        0                     0   \n",
      "309   3     1                        0                     0   \n",
      "310   2     6                        1                     0   \n",
      "311   0     5                        1                     0   \n",
      "312  28    18                        0                     0   \n",
      "313   0     6                        1                     0   \n",
      "314  18     4                        0                     0   \n",
      "315   0     5                        0                     0   \n",
      "316  16     2                        0                     0   \n",
      "317   0    15                        0                     0   \n",
      "318   7    13                        0                     0   \n",
      "319   0     7                        0                     0   \n",
      "320   0     2                        0                     0   \n",
      "321   0     2                        1                     0   \n",
      "322  26     9                        1                     0   \n",
      "323   4    12                        0                     0   \n",
      "324  36    14                        1                     0   \n",
      "325   1     0                        1                     1   \n",
      "326   2    11                        1                     1   \n",
      "327  11    21                        1                     1   \n",
      "328   4     6                        0                     0   \n",
      "329   0     6                        0                     0   \n",
      "330   1     1                        0                     0   \n",
      "331   8    15                        0                     0   \n",
      "332   0     0                        0                     0   \n",
      "333   0     7                        0                     0   \n",
      "334   0     9                        0                     0   \n",
      "335   0    10                        0                     0   \n",
      "336   0     0                        0                     0   \n",
      "\n",
      "     arbitration eligibility  arbitration in 1991/2               Name  \n",
      "0                          0                      0       Andre Dawson  \n",
      "1                          0                      0      Steve Buchele  \n",
      "2                          0                      0        Kal Daniels  \n",
      "3                          1                      0     Shawon Dunston  \n",
      "4                          1                      0         Mark Grace  \n",
      "5                          0                      0      Ryne Sandberg  \n",
      "6                          0                      0       Luis Salazar  \n",
      "7                          0                      0       Dwight Smith  \n",
      "8                          0                      0      Doug Dascenzo  \n",
      "9                          0                      0         Sammy Sosa  \n",
      "10                         0                      0      Jose Vizcaino  \n",
      "11                         0                      0       Rick Wilkins  \n",
      "12                         0                      0        Derrick May  \n",
      "13                         0                      0        Rey Sanchez  \n",
      "14                         0                      0      Ivan Calderon  \n",
      "15                         0                      0        Tim Wallach  \n",
      "16                         1                      0         Spike Owen  \n",
      "17                         0                      0       Larry Walker  \n",
      "18                         0                      0        Gary Carter  \n",
      "19                         0                      0          Tom Foley  \n",
      "20                         0                      0   Delino DeShields  \n",
      "21                         0                      0    Marquis Grissom  \n",
      "22                         0                      0      Bret Barberie  \n",
      "23                         0                      0     John VanderWal  \n",
      "24                         0                      0      Bobby Bonilla  \n",
      "25                         0                      0       Eddie Murray  \n",
      "26                         0                      0      Vince Coleman  \n",
      "27                         0                      0     Howard Johnson  \n",
      "28                         0                      0         Kevin Bass  \n",
      "29                         0                      0     Dick Schofield  \n",
      "..                       ...                    ...                ...  \n",
      "307                        0                      0  Lance Blankenship  \n",
      "308                        0                      0       Mike Bordick  \n",
      "309                        0                      0      Scott Brosius  \n",
      "310                        0                      0     Kevin Mitchell  \n",
      "311                        0                      0       Pete O'Brien  \n",
      "312                        1                      0    Harold Reynolds  \n",
      "313                        0                      0         Dave Valle  \n",
      "314                        1                      0        Ken Griffey  \n",
      "315                        1                      0         Jay Buhner  \n",
      "316                        1                      0        Henry Cotto  \n",
      "317                        0                      0     Edgar Martinez  \n",
      "318                        0                      0       Omar Vizquel  \n",
      "319                        0                      0      Dave Cochrane  \n",
      "320                        0                      0      Tino Martinez  \n",
      "321                        0                      0      Lance Parrish  \n",
      "322                        0                      0       Jose Canseco  \n",
      "323                        1                      1    Rafael Palmeiro  \n",
      "324                        0                      0       Julio Franco  \n",
      "325                        0                      0      Brian Downing  \n",
      "326                        0                      0      Geno Petralli  \n",
      "327                        0                      0        Dickie Thon  \n",
      "328                        0                      0      Juan Gonzalez  \n",
      "329                        0                      0       Kevin Reimer  \n",
      "330                        0                      0     Jack Daugherty  \n",
      "331                        0                      0         Jeff Huson  \n",
      "332                        0                      0       John Russell  \n",
      "333                        0                      0         Mario Diaz  \n",
      "334                        0                      0        Dean Palmer  \n",
      "335                        0                      0     Ivan Rodriguez  \n",
      "336                        0                      0       Monty Fariss  \n",
      "\n",
      "[337 rows x 18 columns]\n"
     ]
    }
   ],
   "source": [
    "# Printing a dataframe shows you a bit more: \n",
    "print baseball"
   ]
  },
  {
   "cell_type": "markdown",
   "metadata": {},
   "source": [
    "## Pandas Joins\n",
    "The real magic with a Pandas DataFrame comes from the join method.  Let's load another file which has shoesize for just a few players"
   ]
  },
  {
   "cell_type": "code",
   "execution_count": 49,
   "metadata": {
    "collapsed": false
   },
   "outputs": [
    {
     "name": "stdout",
     "output_type": "stream",
     "text": [
      "   Shoe Size          Name\n",
      "0         11  Andre Dawson\n",
      "1         13    Mark Grace\n",
      "2         12    Sammy Sosa\n"
     ]
    }
   ],
   "source": [
    "# load shoe size data\n",
    "shoe_sizes = pd.read_csv('data/baseball2.dat.txt', skipinitialspace=True)\n",
    "\n",
    "print shoe_sizes"
   ]
  },
  {
   "cell_type": "code",
   "execution_count": 50,
   "metadata": {
    "collapsed": false
   },
   "outputs": [
    {
     "name": "stdout",
     "output_type": "stream",
     "text": [
      "   Salary    AVG    OBP  Runs  Hits  Doubles  Triples  HR  RBI  Walks  SO  SB  \\\n",
      "0    3300  0.272  0.302    69   153       21        4  31  104     22  80   4   \n",
      "1    2313  0.273  0.346    87   169       28        5   8   58     70  53   3   \n",
      "2     200  0.203  0.240    39    64       10        1  10   33     14  96  13   \n",
      "\n",
      "   Errs  free agency eligibility  free agent in 1991/2  \\\n",
      "0     3                        1                     0   \n",
      "1     8                        0                     0   \n",
      "2     6                        0                     0   \n",
      "\n",
      "   arbitration eligibility  arbitration in 1991/2          Name  Shoe Size  \n",
      "0                        0                      0  Andre Dawson         11  \n",
      "1                        1                      0    Mark Grace         13  \n",
      "2                        0                      0    Sammy Sosa         12  \n"
     ]
    }
   ],
   "source": [
    "merged = pd.merge(baseball, shoe_sizes, on=['Name'])\n",
    "print merged"
   ]
  },
  {
   "cell_type": "code",
   "execution_count": 51,
   "metadata": {
    "collapsed": false
   },
   "outputs": [
    {
     "name": "stdout",
     "output_type": "stream",
     "text": [
      "   Salary    AVG    OBP  Runs  Hits  Doubles  Triples  HR  RBI  Walks   SO  \\\n",
      "0    3300  0.272  0.302    69   153       21        4  31  104     22   80   \n",
      "1    2600  0.269  0.335    58   111       17        2  18   66     39   69   \n",
      "2    2500  0.249  0.337    54   115       15        1  17   73     63  116   \n",
      "3    2475  0.260  0.292    59   128       22        7  12   50     23   64   \n",
      "4    2313  0.273  0.346    87   169       28        5   8   58     70   53   \n",
      "\n",
      "   SB  Errs  free agency eligibility  free agent in 1991/2  \\\n",
      "0   4     3                        1                     0   \n",
      "1   0     3                        1                     1   \n",
      "2   6     5                        1                     0   \n",
      "3  21    21                        0                     0   \n",
      "4   3     8                        0                     0   \n",
      "\n",
      "   arbitration eligibility  arbitration in 1991/2            Name  Shoe Size  \n",
      "0                        0                      0    Andre Dawson         11  \n",
      "1                        0                      0   Steve Buchele        NaN  \n",
      "2                        0                      0     Kal Daniels        NaN  \n",
      "3                        1                      0  Shawon Dunston        NaN  \n",
      "4                        1                      0      Mark Grace         13  \n"
     ]
    }
   ],
   "source": [
    "merged_outer = pd.merge(baseball, shoe_sizes, on=['Name'], how='outer')\n",
    "print merged_outer.head()"
   ]
  }
 ],
 "metadata": {
  "celltoolbar": "Raw Cell Format",
  "kernelspec": {
   "display_name": "Python 2",
   "language": "python",
   "name": "python2"
  },
  "language_info": {
   "codemirror_mode": {
    "name": "ipython",
    "version": 2
   },
   "file_extension": ".py",
   "mimetype": "text/x-python",
   "name": "python",
   "nbconvert_exporter": "python",
   "pygments_lexer": "ipython2",
   "version": "2.7.9"
  }
 },
 "nbformat": 4,
 "nbformat_minor": 0
}
