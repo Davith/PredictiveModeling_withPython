{
 "cells": [
  {
   "cell_type": "code",
   "execution_count": 157,
   "metadata": {
    "collapsed": false
   },
   "outputs": [
    {
     "data": {
      "text/html": [
       "<img src=\"http://datascience.uci.edu/wp-content/uploads/sites/2/2014/09/data_science_logo_with_image1.png\"/>"
      ],
      "text/plain": [
       "<IPython.core.display.Image object>"
      ]
     },
     "execution_count": 157,
     "metadata": {},
     "output_type": "execute_result"
    }
   ],
   "source": [
    "import numpy as np\n",
    "import pandas as pd\n",
    "from IPython.display import Image\n",
    "Image(url='http://datascience.uci.edu/wp-content/uploads/sites/2/2014/09/data_science_logo_with_image1.png')"
   ]
  },
  {
   "cell_type": "code",
   "execution_count": 158,
   "metadata": {
    "collapsed": true
   },
   "outputs": [],
   "source": [
    "# First, let's define a few helper functions to use later.  \n",
    "# Don't worry about trying to pick these apart yet\n",
    "\n",
    "def mean_squared_error(y_true, y_pred):\n",
    "    \"\"\"\n",
    "    calculate the mean_squared_error given a vector of true ys and a vector of predicted ys\n",
    "    \"\"\"\n",
    "    diff = y_true - y_pred\n",
    "    return np.dot(diff, diff) / len(diff)\n",
    "\n",
    "def calc_train_test_errors(untrained_model, x_train, x_test, y_train, y_test):\n",
    "    \"\"\"\n",
    "    calculate the training and testing l2 error of a model\n",
    "    \"\"\"\n",
    "    model = untrained_model\n",
    "    model.fit(x_train, y_train)\n",
    "    y_predicted_train = model.predict(x_train)\n",
    "    y_predicted_test = model.predict(x_test)\n",
    "\n",
    "    train_error = mean_squared_error(y_train, y_predicted_train)\n",
    "    test_error = mean_squared_error(y_test, y_predicted_test)\n",
    "\n",
    "    model_name = get_model_name(model)\n",
    "    \n",
    "    errors = pd.DataFrame(data=[[model_name, train_error, test_error]], \n",
    "                          columns=['Model Name', 'Train Error', 'Test Error'])\n",
    "    \n",
    "    return errors\n",
    "\n",
    "def calc_true_and_predicted_ys(trained_model, x, y_true):\n",
    "    y_predicted = trained_model.predict(x)    \n",
    "\n",
    "    diff = y_true - y_predicted\n",
    "    diff_squared = diff * diff\n",
    "    \n",
    "    ys_df = pd.DataFrame(data=np.vstack([y_true, y_predicted, diff_squared]).T, \n",
    "                         columns=['True y', 'Predicted y', 'Squared Error'])\n",
    "    \n",
    "    return ys_df    \n",
    "\n",
    "def get_model_name(model):\n",
    "    s = model.__str__().lower()\n",
    "    if \"linearregression\" in s:\n",
    "        return 'LinearRegression'\n",
    "    elif \"lasso\" in s:\n",
    "        return 'Lasso(a=%g)' % model.alpha\n",
    "    elif \"ridge\" in s:\n",
    "        return 'Ridge(a=%g)' % model.alpha\n",
    "    elif \"elastic\" in s:\n",
    "        return 'ElasticNet(a=%g, r=%g)' % (model.alpha, model.l1_ratio)\n",
    "    else:\n",
    "        raise ValueError(\"Unknown Model Type\")"
   ]
  },
  {
   "cell_type": "markdown",
   "metadata": {},
   "source": [
    "## Review From Before Lunch:\n",
    "We created a linear model and saw that it performed well on half the data but poorly on the other half."
   ]
  },
  {
   "cell_type": "code",
   "execution_count": 159,
   "metadata": {
    "collapsed": false
   },
   "outputs": [
    {
     "name": "stdout",
     "output_type": "stream",
     "text": [
      "Mean Squared Error on Past Data:  0.821405298678\n",
      "\n",
      "Mean Squared Error on Future Data: 1.46085119166\n"
     ]
    }
   ],
   "source": [
    "from sklearn import linear_model\n",
    "from sklearn.cross_validation import train_test_split\n",
    "\n",
    "# load data\n",
    "with np.load('data/mystery_data_old.npz') as data:\n",
    "    celeb_data_old = data['celeb_data_old']\n",
    "    popularity_old = data['popularity_old']\n",
    "    celeb_data_new = data['celeb_data_new']\n",
    "\n",
    "# fit a model\n",
    "lmr3 = linear_model.LinearRegression()\n",
    "lmr3.fit(celeb_data_old, popularity_old)\n",
    "\n",
    "# predict popularity for old data\n",
    "predicted_popularity_old = lmr3.predict(celeb_data_old)\n",
    "\n",
    "# predict popularity for new data\n",
    "predicted_popularity_new = lmr3.predict(celeb_data_new)\n",
    "\n",
    "print \"Mean Squared Error on Past Data: \", mean_squared_error(popularity_old, predicted_popularity_old)\n",
    "print \n",
    "\n",
    "with np.load('data/mystery_data_new.npz') as data:\n",
    "    popularity_new = data['popularity_new']\n",
    "\n",
    "print \"Mean Squared Error on Future Data:\", mean_squared_error(popularity_new, predicted_popularity_new)"
   ]
  },
  {
   "cell_type": "markdown",
   "metadata": {},
   "source": [
    "## Predictive Modeling\n",
    "What we saw above is a common setup.  We have $\\mathbf{X}$ and $\\mathbf{y}$ data from the past and $\\mathbf{X}$ data for the present for which we want to **predict** the future $\\mathbf{y}$ values.\n",
    "\n",
    "We can generalize this notion of past / present data into what's generally called train / test data.\n",
    "\n",
    "* **Training Data** -- A dataset that we use to train our model.  We have both $\\mathbf{X}$ and $\\mathbf{y}$\n",
    "* **Testing Data** -- A dataset which only has $\\mathbf{X}$ values and for which we need to predict $\\mathbf{y}$ values.  We might also have access to the real $\\mathbf{y}$ values so that we can test how well our model will do on data it hasn't seen before.\n",
    "\n",
    "### <span style=\"color:red\">Model Fitting Exercise: 10 Minutes</span>\n",
    "1. Partner up.  On one computer:\n",
    "  1. Write a function with the call signature `predict_test_values(model, X_train, y_train, X_test)` where model is a scikit learn model\n",
    "    1. Fit the model on `X_train` and `y_train`\n",
    "    1. Predict the y values for `X_test`\n",
    "    1. Return a vector of predicted y values\n",
    "  1. Write a second function with the call signature `calc_train_and_test_error(model, X_train, y_train, X_test, y_test)`\n",
    "    1. Fit the model on `X_train` and `y_train`\n",
    "    1. Predict the y values for `X_test`\n",
    "    1. Predict the y values for `X_train`\n",
    "    1. Calculate the `mean_squared_error` on both the train and test data.\n",
    "    1. Return the train error and test error\n",
    "  1. Describe to your partner the situations in which you might use each function"
   ]
  },
  {
   "cell_type": "code",
   "execution_count": 160,
   "metadata": {
    "collapsed": true
   },
   "outputs": [],
   "source": [
    "def mean_squared_error(y_true, y_pred):\n",
    "    \"\"\"\n",
    "    calculate the mean_squared_error given a vector of true ys and a vector of predicted ys\n",
    "    \"\"\"\n",
    "    diff = y_true - y_pred\n",
    "    return np.dot(diff, diff) / len(diff)\n",
    "\n",
    "def predict_test_values(model, X_train, y_train, X_test):\n",
    "    ########## TODO REMOVE ME\n",
    "    ########## TODO REMOVE ME\n",
    "    ########## TODO REMOVE ME\n",
    "    ########## TODO REMOVE ME\n",
    "    ########## TODO REMOVE ME\n",
    "    ########## TODO REMOVE ME\n",
    "    ########## TODO REMOVE ME\n",
    "\n",
    "    model.fit(X_train, y_train)\n",
    "    return model.predict(X_test)\n",
    "\n",
    "    ########## TODO REMOVE ME\n",
    "    ########## TODO REMOVE ME\n",
    "    ########## TODO REMOVE ME\n",
    "    ########## TODO REMOVE ME\n",
    "    ########## TODO REMOVE ME\n",
    "    ########## TODO REMOVE ME\n",
    "    ########## TODO REMOVE ME\n",
    "\n",
    "def calc_train_and_test_error(model, X_train, y_train, X_test, y_test):\n",
    "\n",
    "    ########## TODO REMOVE ME\n",
    "    ########## TODO REMOVE ME\n",
    "    ########## TODO REMOVE ME\n",
    "    ########## TODO REMOVE ME\n",
    "    ########## TODO REMOVE ME\n",
    "    ########## TODO REMOVE ME\n",
    "    ########## TODO REMOVE ME\n",
    "\n",
    "    model.fit(X_train, y_train)\n",
    "    y_pred_train = model.predict(X_train)\n",
    "    y_pred_test = model.predict(X_test)\n",
    "    error_train = mean_squared_error(y_train, y_pred_train)\n",
    "    error_test = mean_squared_error(y_test, y_pred_test)\n",
    "\n",
    "    return error_train, error_test\n",
    "\n",
    "    ########## TODO REMOVE ME\n",
    "    ########## TODO REMOVE ME\n",
    "    ########## TODO REMOVE ME\n",
    "    ########## TODO REMOVE ME\n",
    "    ########## TODO REMOVE ME\n",
    "    ########## TODO REMOVE ME\n",
    "    ########## TODO REMOVE ME\n",
    "\n",
    "    "
   ]
  },
  {
   "cell_type": "markdown",
   "metadata": {
    "collapsed": true
   },
   "source": [
    "## The Fundamental Pillars of Predictive Modeling\n",
    "###<span style=\"color:green\">**1) A predictive model is only as good as its predictions on unseen data **</span>\n",
    "###<span style=\"color:green\">**2) Error on the dataset we trained on is not a good predictor of error on future data**</span>\n",
    "\n",
    "Why isn't error on the training data a good indicator of future performance?  Overfitting."
   ]
  },
  {
   "cell_type": "markdown",
   "metadata": {},
   "source": [
    "### Overfitting in A Picture"
   ]
  },
  {
   "cell_type": "code",
   "execution_count": 161,
   "metadata": {
    "collapsed": false,
    "scrolled": true
   },
   "outputs": [
    {
     "data": {
      "text/html": [
       "<img src=\"http://radimrehurek.com/data_science_python/plot_bias_variance_examples_2.png\"/>"
      ],
      "text/plain": [
       "<IPython.core.display.Image object>"
      ]
     },
     "execution_count": 161,
     "metadata": {},
     "output_type": "execute_result"
    }
   ],
   "source": [
    "Image(url='http://radimrehurek.com/data_science_python/plot_bias_variance_examples_2.png')"
   ]
  },
  {
   "cell_type": "markdown",
   "metadata": {},
   "source": [
    "## How to Fight Overfitting?\n",
    "Ultimately we don't want to build a model which performs well on data we've already seen, we want to build a model which will perform well on data we haven't seen.\n",
    "\n",
    "There are two linked strategies for to accomplish this: **regularization** and **model selection**."
   ]
  },
  {
   "cell_type": "markdown",
   "metadata": {},
   "source": [
    "## Regularization\n",
    "The idea in regularization is that we're going to modify our loss function to penalize us for being too complex. Simple models are better.\n",
    "\n",
    "One way to do this is to try to keep our regression coefficients small. Why would we want to do this? One intuitive explanation is that if we have big regression coefficients we'll get large changes in the predicted value from small changes in input value.  That's bad. Intuitively, our predictions should vary smoothly with the data.\n",
    "\n",
    "So a model with smaller coefficients makes smoother predictions.  It is simpler, which means it will have a harder time overfitting. \n",
    "\n",
    "We can change our linear regression loss function to help us reduce overfitting. \n",
    "\n",
    "###Linear Regression Loss Function\n",
    "\\begin{eqnarray*}\n",
    "    Loss(\\beta) = MSE &=& \\frac{1}{N} \\sum_{i=1}^{N} (y_i - \\hat y_i)^2 \\\\\n",
    "    &=& \\frac{1}{N} \\sum_{i=1}^{N} (y_i - x_i^T\\beta)^2 \\\\   \n",
    "\\end{eqnarray*}\n",
    "\n",
    "###L2 Regularized Linear Regression Loss Function -- \"Ridge\"\n",
    "\\begin{eqnarray*}\n",
    "    Loss(\\beta) &=& \\frac{1}{N} \\sum_{i=1}^{N} (y_i - x_i^T\\beta)^2 + \\alpha ||\\beta||_2^2\\\\\n",
    "    &=& \\frac{1}{N} \\sum_{i=1}^{N} (y_i - x_i^T\\beta)^2 + \\alpha \\beta^T \\beta\\\\\n",
    "    &=& \\frac{1}{N} \\sum_{i=1}^{N} (y_i - x_i^T\\beta)^2 + \\alpha \\sum_{d=1}^D \\beta_d^2\\\\\n",
    "\\end{eqnarray*}"
   ]
  },
  {
   "cell_type": "markdown",
   "metadata": {},
   "source": [
    "We won't get into details, but a ridge regression model can be optimized in much the same way as an unregularized linear regression: either with using some form of gradient descent or matrix-based solutions. "
   ]
  },
  {
   "cell_type": "code",
   "execution_count": 162,
   "metadata": {
    "collapsed": false
   },
   "outputs": [],
   "source": [
    "# Ridge Regression in scikit-learn\n",
    "from sklearn import linear_model\n",
    "model_ridge = linear_model.Ridge(alpha = .5)\n",
    "\n",
    "# once it's been fit, you can look at the learned beta values of the model with: model_ridge.coef_"
   ]
  },
  {
   "cell_type": "markdown",
   "metadata": {},
   "source": [
    "### <span style=\"color:red\">Ridge Regression Errors: 6 Minutes</span>\n",
    "1. Partner up.  On one computer:\n",
    "  1. Using your `calc_train_and_test_error` function from the previous exercise:\n",
    "    1. Calculate the training and testing error for a LinearRegression model on the dataset below\n",
    "    1. Calculate the training and testing error for a Ridge regression model with `alpha=1` on the dataset below\n",
    "  1. Add up the absolute values of the first 10 coefficients of each model. Which is bigger?\n",
    "\n",
    "     **Note:** If you have a fit model called `m`, then you can access a vector holding its learned coefficients with `m.coef_`.  \n",
    "      \n",
    "     **Note:** Check out the functions `np.sum()` and `np.abs()`\n",
    "\n",
    "  1. Discuss with your partner what's happening here"
   ]
  },
  {
   "cell_type": "code",
   "execution_count": 173,
   "metadata": {
    "collapsed": false
   },
   "outputs": [
    {
     "name": "stdout",
     "output_type": "stream",
     "text": [
      "Linear Regression Training and Test Errors:\n",
      "(2.4835421623895294e-05, 283.52728792173548)\n",
      "\n",
      "Ridge Regression Training and Test Errors:\n",
      "(0.018634112597992469, 9.564156068373217)\n",
      "\n",
      "Sum of Linear Regression Coefficients:\n",
      "338.387469048\n",
      "\n",
      "Sum of Ridge Regression Coefficients:\n",
      "62.4912904062\n",
      "\n"
     ]
    }
   ],
   "source": [
    "# load overfitting data\n",
    "with np.load('data/overfitting_data.npz') as data:\n",
    "    x_train = data['x_train']\n",
    "    y_train = data['y_train']\n",
    "    x_test = data['x_test']\n",
    "    y_test = data['y_test']\n",
    "\n",
    "\n",
    "########## TODO REMOVE ME\n",
    "########## TODO REMOVE ME\n",
    "########## TODO REMOVE ME\n",
    "########## TODO REMOVE ME\n",
    "########## TODO REMOVE ME\n",
    "########## TODO REMOVE ME\n",
    "########## TODO REMOVE ME\n",
    "\n",
    "model_lr = linear_model.LinearRegression()\n",
    "model_ridge = linear_model.Ridge(alpha = 1)\n",
    "\n",
    "print \"Linear Regression Training and Test Errors:\"\n",
    "print calc_train_and_test_error(model_lr, x_train, y_train, x_test, y_test)\n",
    "print\n",
    "\n",
    "print \"Ridge Regression Training and Test Errors:\"\n",
    "print calc_train_and_test_error(model_ridge, x_train, y_train, x_test, y_test)\n",
    "print\n",
    "\n",
    "print \"Sum of Linear Regression Coefficients:\"\n",
    "print np.sum(np.abs(model_lr.coef_))\n",
    "print\n",
    "\n",
    "print \"Sum of Ridge Regression Coefficients:\"\n",
    "print np.sum(np.abs(model_ridge.coef_))\n",
    "print\n",
    "\n",
    "########## TODO REMOVE ME\n",
    "########## TODO REMOVE ME\n",
    "########## TODO REMOVE ME\n",
    "########## TODO REMOVE ME\n",
    "########## TODO REMOVE ME\n",
    "########## TODO REMOVE ME\n",
    "########## TODO REMOVE ME\n"
   ]
  },
  {
   "cell_type": "markdown",
   "metadata": {},
   "source": [
    "###L1 Regularized Linear Regression Loss Function -- \"LASSO\"\n",
    "LASSO is another regularization method.  It penalizes not with the square of the regression coefficients (the $\\beta$s) by their absolute value.  \n",
    "\n",
    "LASSO has the additional property that it tends to push beta values of unimportant dimensions all the way to exactly 0.  This has the beneficial property of enforcing sparsity in our model.  If small coefficients lead to a simpler model, 0-valued coefficients \n",
    "\n",
    "\\begin{eqnarray*}\n",
    "    Loss(\\beta) &=& \\frac{1}{N} \\sum_{i=1}^{N} (y_i - x_i^T\\beta)^2 + \\alpha ||\\beta||_1\\\\\n",
    "    &=& \\frac{1}{N} \\sum_{i=1}^{N} (y_i - x_i^T\\beta)^2 + \\alpha \\sum_{d=1}^D |\\beta_d|\\\\\n",
    "\\end{eqnarray*}"
   ]
  },
  {
   "cell_type": "code",
   "execution_count": 174,
   "metadata": {
    "collapsed": true
   },
   "outputs": [],
   "source": [
    "# LASSO in scikit-learn\n",
    "from sklearn import linear_model\n",
    "model_lasso = linear_model.Lasso(alpha = 0.5)"
   ]
  },
  {
   "cell_type": "markdown",
   "metadata": {},
   "source": [
    "### <span style=\"color:red\">LASSO Coefficients and Errors: 6 Minutes</span>\n",
    "1. Partner up.  On one computer:\n",
    "  1. Using your `calc_train_and_test_error` again, calculate the training and testing error for a LASSO model with `alpha=1` on the dataset from the previous exercise\n",
    "  1. Add up the absolute values of the coefficients of the LASSO model. Compare it to the sums from the LinearRegression and Ridge models.\n",
    "  1. Look at the first 10 coefficients of the LinearRegression, Ridge, and LASSO models.  \n",
    "  1. Discuss with your partner what's happening here"
   ]
  },
  {
   "cell_type": "code",
   "execution_count": 175,
   "metadata": {
    "collapsed": false
   },
   "outputs": [
    {
     "name": "stdout",
     "output_type": "stream",
     "text": [
      "LASSO Errors:\n",
      "(4.1142351854727739, 4.6028697944107169)\n",
      "\n",
      "Sum of LASSO Coefficients\n",
      "2.88729174216\n",
      "\n",
      "Linear Regression Coefficients:\n",
      "[  5.22757470e-01   2.78289824e+00   4.04383818e+00   1.17544241e+00\n",
      "   3.13230537e-01  -1.28127160e-01   5.11682173e-01   3.83754833e-03\n",
      "  -1.19481096e+00   9.56448172e-01]\n",
      "\n",
      "Ridge Regression Coefficients:\n",
      "[ 1.01611626  1.77246927  3.06534773 -0.0333898   0.04378713  0.10472107\n",
      " -0.13445823  0.12656315  0.05779722  0.10204281]\n",
      "\n",
      "LASSO Coefficients:\n",
      "[ 0.03375129  0.92694409  1.92659636  0.          0.          0.         -0.\n",
      "  0.          0.          0.        ]\n",
      "\n"
     ]
    }
   ],
   "source": [
    "# Write your code here\n",
    "\n",
    "########## TODO REMOVE ME\n",
    "########## TODO REMOVE ME\n",
    "########## TODO REMOVE ME\n",
    "########## TODO REMOVE ME\n",
    "########## TODO REMOVE ME\n",
    "########## TODO REMOVE ME\n",
    "########## TODO REMOVE ME\n",
    "\n",
    "model_lasso = linear_model.Lasso(alpha = 1)\n",
    "\n",
    "print 'LASSO Errors:'\n",
    "print calc_train_and_test_error(model_lasso, x_train, y_train, x_test, y_test)\n",
    "print \n",
    "\n",
    "print 'Sum of LASSO Coefficients'\n",
    "print np.sum(np.abs(model_lasso.coef_))\n",
    "print \n",
    "\n",
    "n_disp_coefs = 10\n",
    "\n",
    "print 'Linear Regression Coefficients:'\n",
    "print model_lr.coef_[:n_disp_coefs]\n",
    "print\n",
    "\n",
    "print 'Ridge Regression Coefficients:'\n",
    "print model_ridge.coef_[:n_disp_coefs]\n",
    "print\n",
    "\n",
    "print 'LASSO Coefficients:'\n",
    "print model_lasso.coef_[:n_disp_coefs]\n",
    "print\n",
    "\n",
    "########## TODO REMOVE ME\n",
    "########## TODO REMOVE ME\n",
    "########## TODO REMOVE ME\n",
    "########## TODO REMOVE ME\n",
    "########## TODO REMOVE ME\n",
    "########## TODO REMOVE ME\n",
    "########## TODO REMOVE ME\n"
   ]
  },
  {
   "cell_type": "markdown",
   "metadata": {
    "collapsed": true
   },
   "source": [
    "###L1 + L2 Regularized Linear Regression Loss Function -- \"ElasticNet\"\n",
    "\\begin{eqnarray*}\n",
    "    Loss(\\beta) &=& \\frac{1}{2N} \\sum_{i=1}^{N} (y_i - x_i^T\\beta)^2 + \\alpha \\rho ||\\beta||_1 + \\frac{\\alpha (1 - \\rho)}{2} ||\\beta||_2^2\\\\\\\\\n",
    "    &=& \\frac{1}{2N} \\sum_{i=1}^{N} (y_i - x_i^T\\beta)^2 + \\alpha \\rho \\sum_{d=1}^D |\\beta_d| + \\frac{\\alpha (1 - \\rho)}{2} \\sum_{d=1}^D \\beta_d^2\\\\\n",
    "\\end{eqnarray*}"
   ]
  },
  {
   "cell_type": "code",
   "execution_count": 176,
   "metadata": {
    "collapsed": true
   },
   "outputs": [],
   "source": [
    "from sklearn import linear_model\n",
    "model_en = linear_model.ElasticNet(alpha=0.5, l1_ratio=0.1)\n",
    "\n",
    "# note: scikit learn's current implementation of ElasticNet isn't stable with l1_ratio <= 0.01"
   ]
  },
  {
   "cell_type": "markdown",
   "metadata": {},
   "source": [
    "### <span style=\"color:red\">ElasticNet Coefficients and Errors: 4 Minutes</span>\n",
    "1. Partner up.  On one computer:\n",
    "  1. Using your `calc_train_and_test_error` again, calculate the training and testing error for an ElasticNet model with `alpha=1` and `l1_ratio=0.5` on the dataset from the previous exercises\n",
    "  1. Add up the absolute values of the first 10 coefficients of the ElasticNet model. Compare it to the sums from the LinearRegression, Ridge, and LASSO models.\n",
    "  1. Look at the first 10 coefficients of the ElasticNet model.  \n",
    "  1. Discuss with your partner what's happening here"
   ]
  },
  {
   "cell_type": "code",
   "execution_count": 177,
   "metadata": {
    "collapsed": false
   },
   "outputs": [
    {
     "name": "stdout",
     "output_type": "stream",
     "text": [
      "ElasticNet Errors:\n",
      "(4.2520891992612748, 4.7736076942707788)\n",
      "\n",
      "Sum of ElasticNet Coefficients\n",
      "2.92041057644\n",
      "\n",
      "ElasticNet Coefficients:\n",
      "[ 0.36672086  0.95411512  1.5995746   0.          0.          0.         -0.\n",
      "  0.          0.          0.        ]\n",
      "\n"
     ]
    }
   ],
   "source": [
    "# Write your code here\n",
    "\n",
    "########## TODO REMOVE ME\n",
    "########## TODO REMOVE ME\n",
    "########## TODO REMOVE ME\n",
    "########## TODO REMOVE ME\n",
    "########## TODO REMOVE ME\n",
    "########## TODO REMOVE ME\n",
    "########## TODO REMOVE ME\n",
    "\n",
    "model_en = linear_model.ElasticNet(alpha=1, l1_ratio=0.5)\n",
    "\n",
    "print 'ElasticNet Errors:'\n",
    "print calc_train_and_test_error(model_en, x_train, y_train, x_test, y_test)\n",
    "print \n",
    "\n",
    "print 'Sum of ElasticNet Coefficients'\n",
    "print np.sum(np.abs(model_en.coef_))\n",
    "print \n",
    "\n",
    "n_disp_coefs = 10\n",
    "\n",
    "print 'ElasticNet Coefficients:'\n",
    "print model_en.coef_[:n_disp_coefs]\n",
    "print\n",
    "\n",
    "########## TODO REMOVE ME\n",
    "########## TODO REMOVE ME\n",
    "########## TODO REMOVE ME\n",
    "########## TODO REMOVE ME\n",
    "########## TODO REMOVE ME\n",
    "########## TODO REMOVE ME\n",
    "########## TODO REMOVE ME\n"
   ]
  },
  {
   "cell_type": "markdown",
   "metadata": {},
   "source": [
    "## Cross Validation\n",
    "Now we know three types of regularization for linear regression: ridge regression, LASSO, and elastic net.  \n",
    "\n",
    "All of our regularized models had better test error that simple linear regression.  But how should we choose which model to ultimatley use or which parameters to use?  The answer is **cross validation**.\n",
    "\n",
    "There are many forms of cross validation.  The basic idea of each is to _train_ your model on some data and _estimate it's future performance_ on other data."
   ]
  },
  {
   "cell_type": "markdown",
   "metadata": {},
   "source": [
    "## Types of Cross Validation\n",
    "### Validation Set Cross Validation\n",
    "1. Pick an amount of training data to be in your validation set (e.g. 10%)\n",
    "2. Randomly split datapoints into training points (90%) and validation points (10%)\n",
    "3. Train your model on the training data\n",
    "4. Test your model on the validation data, record the validation error\n",
    "5. Estimated future errors is the validation error\n",
    "\n",
    "\n",
    "* **Good:** Easy and computationally cheap\n",
    "* **Bad:** Statistically noisy and wastes data\n",
    "\n",
    "\n",
    "**Aside:** Validation set cross validation is almost identical to what we've been doing so far by calculating the error on our test dataset, but with two significant differences:\n",
    "1. We don't have to peek at our test data set.  This is good because if we do that too much, we can actually still overfit to our test data and still perform poorly on future unseen data.\n",
    "1. We don't have to be given the $\\mathbf{y}$ vector for our test dataset. Validation set cross validation only requires a training dataset."
   ]
  },
  {
   "cell_type": "code",
   "execution_count": 185,
   "metadata": {
    "collapsed": false
   },
   "outputs": [
    {
     "name": "stdout",
     "output_type": "stream",
     "text": [
      "Original Training Set Size:\n",
      "(600, 598) (600,)\n",
      "\n",
      "Reducted Training Set Size:\n",
      "(540, 598) (540,)\n",
      "\n",
      "Validation Set Size:\n",
      "(60, 598) (60,)\n",
      "\n"
     ]
    }
   ],
   "source": [
    "# a helper function for performing validation set cross validation\n",
    "from sklearn.cross_validation import train_test_split\n",
    "validation_portion = 0.1\n",
    "seed = 1234\n",
    "x_train_small, x_valid, y_train_small, y_valid = \\\n",
    "    train_test_split(x_train, y_train, test_size=validation_portion, random_state=seed)\n",
    "\n",
    "print 'Original Training Set Size:'\n",
    "print x_train.shape, y_train.shape\n",
    "print\n",
    "\n",
    "print 'Reducted Training Set Size:'\n",
    "print x_train_small.shape, y_train_small.shape\n",
    "print\n",
    "\n",
    "print 'Validation Set Size:'\n",
    "print x_valid.shape, y_valid.shape\n",
    "print\n"
   ]
  },
  {
   "cell_type": "markdown",
   "metadata": {},
   "source": [
    "#### <span style=\"color:red\">Validation Set Cross Validation Exercise: 12 Minutes</span>\n",
    "1. Partner up.  On one computer:\n",
    "  1. Write a function with the call signature `validation_set_error(model, x_train, y_train, validation_portion=0.1, seed=1234)` which returns the validation set estimate of the future error for the given `model`. This function should:\n",
    "    1. Split the data into a reduced training set and a validation set\n",
    "    1. Train on the reduced training set\n",
    "    1. Estimate the mean squared error on the validation set\n",
    "    1. Return that estimate\n",
    "  1. Use your `calc_train_and_test_error(model, X_train, y_train, X_test, y_test)` function to calculate training and test set errors for these \n",
    "  1. Use this your `validation_set_error` function to estimate the future error on the overfitting data for:\n",
    "    1. A linear regression model\n",
    "    1. A ridge regression models with `alpha` = 10\n",
    "  1. Do this for multiple random seeds\n",
    "  1. Does validation error do a good job of predicting test error?\n",
    "  1. If you have time: How does changing the validation_portion affect the similarity between the validation and test error?\n"
   ]
  },
  {
   "cell_type": "code",
   "execution_count": 187,
   "metadata": {
    "collapsed": false
   },
   "outputs": [
    {
     "name": "stdout",
     "output_type": "stream",
     "text": [
      "Linear Regression Training and Test Errors:\n",
      "(2.4835421623895294e-05, 283.52728792173548)\n",
      "\n",
      "Linear Regression Validation Errors:\n",
      "9.44958288788\n",
      "\n",
      "11.534546517\n",
      "\n",
      "11.8057845076\n",
      "\n",
      "10.7606395757\n",
      "\n",
      "7.60088829288\n",
      "\n",
      "Ridge Regression Training and Test Errors:\n",
      "(0.06406324343262465, 4.9205415455727231)\n",
      "\n",
      "Ridge Regression Validation Errors:\n",
      "3.61817500364\n",
      "\n",
      "7.12476980873\n",
      "\n",
      "5.32580668571\n",
      "\n",
      "5.74292650031\n",
      "\n",
      "4.6239411424\n",
      "\n"
     ]
    }
   ],
   "source": [
    "def validation_set_error(model, x_train, y_train, validation_portion=0.1, seed=1234):\n",
    "    ########## TODO REMOVE ME\n",
    "    ########## TODO REMOVE ME\n",
    "    ########## TODO REMOVE ME\n",
    "    ########## TODO REMOVE ME\n",
    "    ########## TODO REMOVE ME\n",
    "    ########## TODO REMOVE ME\n",
    "    ########## TODO REMOVE ME\n",
    "\n",
    "    x_train_small, x_valid, y_train_small, y_valid = \\\n",
    "        train_test_split(x_train, y_train, test_size=validation_portion, random_state=seed)\n",
    "    model.fit(x_train_small, y_train_small)\n",
    "    y_pred_valid = model.predict(x_valid)\n",
    "    return mean_squared_error(y_valid, y_pred_valid)\n",
    "\n",
    "# set up models\n",
    "model_lr_valid = linear_model.LinearRegression()\n",
    "model_ridge_valid = linear_model.Ridge(alpha=10)\n",
    "\n",
    "# calculate errors\n",
    "valid_portion = .1\n",
    "n_seeds = 5\n",
    "print \"Linear Regression Training and Test Errors:\"\n",
    "print calc_train_and_test_error(model_lr_valid, x_train, y_train, x_test, y_test)\n",
    "print\n",
    "print \"Linear Regression Validation Errors:\"\n",
    "for seed in range(n_seeds):\n",
    "    print validation_set_error(model_lr_valid, x_train, y_train, validation_portion=valid_portion, seed=seed)\n",
    "    print\n",
    "\n",
    "print \"Ridge Regression Training and Test Errors:\"\n",
    "print calc_train_and_test_error(model_ridge_valid, x_train, y_train, x_test, y_test)\n",
    "print\n",
    "print \"Ridge Regression Validation Errors:\"\n",
    "for seed in range(n_seeds):\n",
    "    print validation_set_error(model_ridge_valid, x_train, y_train, validation_portion=valid_portion, seed=seed)\n",
    "    print\n",
    "\n",
    "########## TODO REMOVE ME\n",
    "########## TODO REMOVE ME\n",
    "########## TODO REMOVE ME\n",
    "########## TODO REMOVE ME\n",
    "########## TODO REMOVE ME\n",
    "########## TODO REMOVE ME\n",
    "########## TODO REMOVE ME"
   ]
  },
  {
   "cell_type": "markdown",
   "metadata": {},
   "source": [
    "### K-Fold Cross Validation\n",
    "1. Partition the data into K folds\n",
    "2. For each fold k:\n",
    "  1. Train the model on all your data except the data in k\n",
    "  2. Record the error on the the data in k\n",
    "3. Estimate future error as total error across all folds\n",
    "\n",
    "\n",
    "* **Good:** Computationally cheaper than leave one out cross validation, only wastes 100/k% of the data\n",
    "* **Bad:** k times as expensive as just training one model, wastes 100/k% of the data"
   ]
  },
  {
   "cell_type": "code",
   "execution_count": 170,
   "metadata": {
    "collapsed": false
   },
   "outputs": [
    {
     "data": {
      "text/html": [
       "<img src=\"https://chrisjmccormick.files.wordpress.com/2013/07/10_fold_cv.png\"/>"
      ],
      "text/plain": [
       "<IPython.core.display.Image object>"
      ]
     },
     "execution_count": 170,
     "metadata": {},
     "output_type": "execute_result"
    }
   ],
   "source": [
    "Image(url='https://chrisjmccormick.files.wordpress.com/2013/07/10_fold_cv.png')"
   ]
  },
  {
   "cell_type": "markdown",
   "metadata": {},
   "source": [
    "## Hyperparameter Selection with Cross Validation\n",
    "1. For each model:\n",
    "  1. Estimate the model's performance on future data using cross validation\n",
    "2. Pick the model with the best estimated future performance\n",
    "3. Train the best model from scratch on the full dataset.  This is your model"
   ]
  },
  {
   "cell_type": "code",
   "execution_count": 171,
   "metadata": {
    "collapsed": false
   },
   "outputs": [],
   "source": [
    "# TODO: CV with data\n",
    "from sklearn import linear_model\n",
    "clf = linear_model.RidgeCV(alphas=[0.1, 1.0, 10.0])\n",
    "clf = linear_model.LassoCV(alphas=[0.1, 1.0, 10.0])"
   ]
  },
  {
   "cell_type": "markdown",
   "metadata": {},
   "source": [
    "## Caveats:\n",
    "* You can still overfit with intensive cross validation!\n",
    "* But it's much better than without"
   ]
  },
  {
   "cell_type": "markdown",
   "metadata": {},
   "source": [
    "## Summary:\n",
    "* **The Central Thesis of Machine Learning:** We're only interested in predictive performance on unseen data, NOT seen data.\n",
    "* Training set error estimates error on **seen** data\n",
    "* Cross validation error estimates error on **unseen** data\n",
    "* Regularization is a way to improve your error on unseen data, but it introduces new hyperparameters\n",
    "* Use a cross validated estimate of future performance to choose your model / hyperparameter settings"
   ]
  }
 ],
 "metadata": {
  "kernelspec": {
   "display_name": "Python 2",
   "language": "python",
   "name": "python2"
  },
  "language_info": {
   "codemirror_mode": {
    "name": "ipython",
    "version": 2
   },
   "file_extension": ".py",
   "mimetype": "text/x-python",
   "name": "python",
   "nbconvert_exporter": "python",
   "pygments_lexer": "ipython2",
   "version": "2.7.9"
  }
 },
 "nbformat": 4,
 "nbformat_minor": 0
}
