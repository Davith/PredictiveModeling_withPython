{
 "cells": [
  {
   "cell_type": "code",
   "execution_count": 55,
   "metadata": {
    "collapsed": false
   },
   "outputs": [
    {
     "data": {
      "text/html": [
       "<img src=\"http://datascience.uci.edu/wp-content/uploads/sites/2/2014/09/data_science_logo_with_image1.png\"/>"
      ],
      "text/plain": [
       "<IPython.core.display.Image object>"
      ]
     },
     "execution_count": 55,
     "metadata": {},
     "output_type": "execute_result"
    }
   ],
   "source": [
    "from IPython.display import Image\n",
    "import numpy as np\n",
    "import pandas as pd\n",
    "import matplotlib.pyplot as plt\n",
    "%matplotlib inline\n",
    "Image(url='http://datascience.uci.edu/wp-content/uploads/sites/2/2014/09/data_science_logo_with_image1.png')"
   ]
  },
  {
   "cell_type": "markdown",
   "metadata": {},
   "source": [
    "# A Crash Course in Python\n",
    "\n",
    "Included in this notebook is all of the Python that you should need to complete the tasks during the lessons.  \n",
    "\n",
    "## Loops in Python\n",
    "\n",
    "##### For Loop\n",
    "\n",
    "- https://wiki.python.org/moin/ForLoop\n",
    "        for x in range(0, 3):\n",
    "            print \"We're on time %d\" % (x)"
   ]
  },
  {
   "cell_type": "code",
   "execution_count": 56,
   "metadata": {
    "collapsed": false
   },
   "outputs": [
    {
     "name": "stdout",
     "output_type": "stream",
     "text": [
      "We're on time 0\n",
      "We're on time 1\n",
      "We're on time 2\n"
     ]
    }
   ],
   "source": [
    "for x in range(0, 3):\n",
    "    print \"We're on time %d\" % (x)"
   ]
  },
  {
   "cell_type": "markdown",
   "metadata": {},
   "source": [
    "##### While Loop\n",
    "- https://wiki.python.org/moin/WhileLoop\n",
    "- Beware infinite loops in an iPython Notebook, there's a great chance you won't be able to get out of it.\n",
    "\n",
    "        collection = ['hey', 5, 'd']\n",
    "        for x in collection:\n",
    "            print x\n",
    "\n",
    "        x = 0\n",
    "        while x < 10:\n",
    "            print 'UCI Data Science'\n",
    "            x += 1"
   ]
  },
  {
   "cell_type": "code",
   "execution_count": 57,
   "metadata": {
    "collapsed": false
   },
   "outputs": [
    {
     "name": "stdout",
     "output_type": "stream",
     "text": [
      "hey\n",
      "5\n",
      "world\n",
      "UCI Data Science\n",
      "UCI Data Science\n",
      "UCI Data Science\n",
      "UCI Data Science\n",
      "UCI Data Science\n"
     ]
    }
   ],
   "source": [
    "collection = ['hey', 5, 'world']\n",
    "for x in collection:\n",
    "    print x\n",
    "\n",
    "x = 0\n",
    "y = 10\n",
    "while (x < 5) & (y==10):\n",
    "    print 'UCI Data Science'\n",
    "    x += 1\n"
   ]
  },
  {
   "cell_type": "markdown",
   "metadata": {},
   "source": [
    "## Mathematics & Linear Algebra\n",
    "\n",
    "Numpy is a package for scientific computing, that was imported at the top of the notebook as `np`\n",
    "    \n",
    "        import numpy as np\n",
    "        \n",
    "- http://www.numpy.org/\n",
    "    \n",
    "    \n",
    "### Working with Numpy arrays and Matrices\n",
    "Numpy has both a function for Numpy matrices `numpy.matrix()` and Numpy Arrays `numpy.array([])`.  It is generally advisable to use numpy arrays over matrices in scientific computing.  \n",
    "\n",
    "- A comparison between numpy.array() and numpy.matrix()\n",
    "    - http://wiki.scipy.org/NumPy_for_Matlab_Users\n",
    "- Another benefit is that pandas DataFrames work well with numpy arrays.\n",
    "- np.array() Reference: http://docs.scipy.org/doc/numpy/reference/generated/numpy.array.html\n",
    "\n",
    "###### Creating an Empty Array"
   ]
  },
  {
   "cell_type": "code",
   "execution_count": 58,
   "metadata": {
    "collapsed": false
   },
   "outputs": [
    {
     "data": {
      "text/plain": [
       "array([  4.94065646e-324,   9.88131292e-324,   1.48219694e-323])"
      ]
     },
     "execution_count": 58,
     "metadata": {},
     "output_type": "execute_result"
    }
   ],
   "source": [
    "np.empty(3)"
   ]
  },
  {
   "cell_type": "markdown",
   "metadata": {},
   "source": [
    "#####Creating an Array of Ones "
   ]
  },
  {
   "cell_type": "code",
   "execution_count": 59,
   "metadata": {
    "collapsed": false
   },
   "outputs": [
    {
     "data": {
      "text/plain": [
       "array([ 1.,  1.,  1.])"
      ]
     },
     "execution_count": 59,
     "metadata": {},
     "output_type": "execute_result"
    }
   ],
   "source": [
    "np.ones(3)"
   ]
  },
  {
   "cell_type": "markdown",
   "metadata": {},
   "source": [
    "##### Creating an Array of Values"
   ]
  },
  {
   "cell_type": "code",
   "execution_count": 60,
   "metadata": {
    "collapsed": false
   },
   "outputs": [
    {
     "data": {
      "text/plain": [
       "array([1, 2, 3, 4])"
      ]
     },
     "execution_count": 60,
     "metadata": {},
     "output_type": "execute_result"
    }
   ],
   "source": [
    "np.array([1,2,3,4])"
   ]
  },
  {
   "cell_type": "markdown",
   "metadata": {},
   "source": [
    "##### Creating a Multi-dimensional Array or Matrix"
   ]
  },
  {
   "cell_type": "code",
   "execution_count": 61,
   "metadata": {
    "collapsed": false
   },
   "outputs": [
    {
     "name": "stdout",
     "output_type": "stream",
     "text": [
      "[[1 2 3 4]\n",
      " [5 6 7 8]]\n",
      "X has 2 rows, 4 columns\n"
     ]
    }
   ],
   "source": [
    "X = np.array([[1,2,3,4],\n",
    "              [5,6,7,8]])\n",
    "print X\n",
    "print \"\"\"X has {0} rows, {1} columns\"\"\".format(X.shape[0],X.shape[1])"
   ]
  },
  {
   "cell_type": "markdown",
   "metadata": {},
   "source": [
    "### Linear Alegebra for Numpy Arrays"
   ]
  },
  {
   "cell_type": "markdown",
   "metadata": {},
   "source": [
    "##### Matrix multiplication\n",
    "http://docs.scipy.org/doc/numpy/reference/generated/numpy.dot.html"
   ]
  },
  {
   "cell_type": "code",
   "execution_count": 62,
   "metadata": {
    "collapsed": false
   },
   "outputs": [
    {
     "name": "stdout",
     "output_type": "stream",
     "text": [
      "[ 2  6 12 20]\n",
      "40\n",
      "[40 70]\n"
     ]
    },
    {
     "ename": "ValueError",
     "evalue": "shapes (4,) and (2,4) not aligned: 4 (dim 0) != 2 (dim 0)",
     "output_type": "error",
     "traceback": [
      "\u001b[0;31m---------------------------------------------------------------------------\u001b[0m",
      "\u001b[0;31mValueError\u001b[0m                                Traceback (most recent call last)",
      "\u001b[0;32m<ipython-input-62-41092589b227>\u001b[0m in \u001b[0;36m<module>\u001b[0;34m()\u001b[0m\n\u001b[1;32m      7\u001b[0m \u001b[0;32mprint\u001b[0m \u001b[0mnp\u001b[0m\u001b[0;34m.\u001b[0m\u001b[0mdot\u001b[0m\u001b[0;34m(\u001b[0m\u001b[0mx\u001b[0m\u001b[0;34m,\u001b[0m\u001b[0my\u001b[0m\u001b[0;34m)\u001b[0m               \u001b[0;31m# Matrix/Vector Multiplication\u001b[0m\u001b[0;34m\u001b[0m\u001b[0m\n\u001b[1;32m      8\u001b[0m \u001b[0;32mprint\u001b[0m \u001b[0mnp\u001b[0m\u001b[0;34m.\u001b[0m\u001b[0mdot\u001b[0m\u001b[0;34m(\u001b[0m\u001b[0mx\u001b[0m\u001b[0;34m,\u001b[0m\u001b[0mz\u001b[0m\u001b[0;34m.\u001b[0m\u001b[0mtranspose\u001b[0m\u001b[0;34m(\u001b[0m\u001b[0;34m)\u001b[0m\u001b[0;34m)\u001b[0m\u001b[0;34m\u001b[0m\u001b[0m\n\u001b[0;32m----> 9\u001b[0;31m \u001b[0;32mprint\u001b[0m \u001b[0mnp\u001b[0m\u001b[0;34m.\u001b[0m\u001b[0mdot\u001b[0m\u001b[0;34m(\u001b[0m\u001b[0mx\u001b[0m\u001b[0;34m,\u001b[0m\u001b[0mz\u001b[0m\u001b[0;34m)\u001b[0m               \u001b[0;31m# Notice dimensions matter!\u001b[0m\u001b[0;34m\u001b[0m\u001b[0m\n\u001b[0m",
      "\u001b[0;31mValueError\u001b[0m: shapes (4,) and (2,4) not aligned: 4 (dim 0) != 2 (dim 0)"
     ]
    }
   ],
   "source": [
    "x = np.array([1,2,3,4])\n",
    "y = np.array([2,3,4,5])\n",
    "z = np.array([[2,3,4,5],\n",
    "              [5,6,7,8]])\n",
    "\n",
    "print np.multiply(x,y)          # Element-wise multiplication\n",
    "print np.dot(x,y)               # Matrix/Vector Multiplication\n",
    "print np.dot(x,z.transpose())   \n",
    "print np.dot(x,z)               # Notice dimensions matter!"
   ]
  },
  {
   "cell_type": "markdown",
   "metadata": {},
   "source": [
    "###  Operations on Arrays\n",
    "\n",
    "- https://scipy-lectures.github.io/intro/numpy/operations.html\n",
    "\n",
    "\n",
    "#####Taking the sum of a Vector\n"
   ]
  },
  {
   "cell_type": "code",
   "execution_count": 63,
   "metadata": {
    "collapsed": false
   },
   "outputs": [
    {
     "name": "stdout",
     "output_type": "stream",
     "text": [
      "10\n",
      "10\n"
     ]
    }
   ],
   "source": [
    "x = np.array([1,2,3,4])\n",
    "\n",
    "print np.sum(x)  # Using numpy's sum function\n",
    "print x.sum()    # Access the objects 'sum' method"
   ]
  },
  {
   "cell_type": "markdown",
   "metadata": {},
   "source": [
    "##### Taking the transpose of a Vector or Matrix "
   ]
  },
  {
   "cell_type": "code",
   "execution_count": 64,
   "metadata": {
    "collapsed": false
   },
   "outputs": [
    {
     "name": "stdout",
     "output_type": "stream",
     "text": [
      "[[1 1]\n",
      " [2 2]]\n",
      "[[1 2]\n",
      " [1 2]]\n",
      "[[1 2]\n",
      " [1 2]]\n"
     ]
    }
   ],
   "source": [
    "x = np.array([[1,1],[2,2]])\n",
    "\n",
    "print x \n",
    "print x.transpose()\n",
    "print np.transpose(x)"
   ]
  },
  {
   "cell_type": "markdown",
   "metadata": {},
   "source": [
    "##### Size and Shape  of an array: "
   ]
  },
  {
   "cell_type": "code",
   "execution_count": 65,
   "metadata": {
    "collapsed": false
   },
   "outputs": [
    {
     "name": "stdout",
     "output_type": "stream",
     "text": [
      "(3, 3)\n",
      "9\n",
      "(3, 3)\n",
      "9\n"
     ]
    }
   ],
   "source": [
    "x = np.array([[1,2,4],\n",
    "              [3,5,6],\n",
    "              [1,3,8]])\n",
    "print x.shape\n",
    "print x.size\n",
    "print np.shape(x)\n",
    "print np.size(x)"
   ]
  },
  {
   "cell_type": "markdown",
   "metadata": {},
   "source": [
    "#### Linear Algebra Operations in Numpy\n",
    "\n",
    "Linear Algebra has its own sublibrary, `np.linalg` within Numpy: http://docs.scipy.org/doc/numpy/reference/routines.linalg.html\n",
    "\n",
    "#####Inverting a Matrix"
   ]
  },
  {
   "cell_type": "code",
   "execution_count": 66,
   "metadata": {
    "collapsed": false
   },
   "outputs": [
    {
     "name": "stdout",
     "output_type": "stream",
     "text": [
      "[[ 11.   -2.   -4. ]\n",
      " [ -9.    2.    3. ]\n",
      " [  2.   -0.5  -0.5]]\n"
     ]
    }
   ],
   "source": [
    "x = np.array([[1,2,4],\n",
    "              [3,5,6],\n",
    "              [1,3,8]])\n",
    "print np.linalg.inv(x)"
   ]
  },
  {
   "cell_type": "markdown",
   "metadata": {},
   "source": [
    "##### Finding the Norm of a Vector"
   ]
  },
  {
   "cell_type": "code",
   "execution_count": 67,
   "metadata": {
    "collapsed": false
   },
   "outputs": [
    {
     "name": "stdout",
     "output_type": "stream",
     "text": [
      "[[1 2]\n",
      " [1 2]]\n",
      "3.74165738677\n",
      "3.16227766017\n"
     ]
    }
   ],
   "source": [
    "x = np.array([1,2,3])\n",
    "y = np.array([[1,2],[1,2]])\n",
    "print y\n",
    "print np.linalg.norm(x)\n",
    "print np.linalg.norm(y)"
   ]
  },
  {
   "cell_type": "markdown",
   "metadata": {},
   "source": [
    "## Matrices and DataFrames in Pandas\n",
    "\n",
    "- Pandas DataFrames for Design Matrices\n",
    "    - To create a matrix in Pandas, use the DataFrame method.\n",
    "        - http://pandas.pydata.org/pandas-docs/dev/generated/pandas.DataFrame.html\n",
    "                - matrix = pd.DataFrame({'var1': data1,\n",
    "                                         'var2': data2})\n",
    "    - Accessing the columns of a Pandas DataFrame can be done using the columns method \n",
    "        - Returning the name of the $i^{th}$ column\n",
    "            - `matrix.columns[i]`\n",
    "        - Returning the values of the $i^{th}$ column\n",
    "            - `matrix[matrix.columns[i]]`\n",
    "        - Accessing by Colume name\n",
    "            - `matrix['var1']`"
   ]
  },
  {
   "cell_type": "code",
   "execution_count": 1,
   "metadata": {
    "collapsed": false
   },
   "outputs": [
    {
     "ename": "NameError",
     "evalue": "name 'np' is not defined",
     "output_type": "error",
     "traceback": [
      "\u001b[0;31m---------------------------------------------------------------------------\u001b[0m",
      "\u001b[0;31mNameError\u001b[0m                                 Traceback (most recent call last)",
      "\u001b[0;32m<ipython-input-1-a63892075faa>\u001b[0m in \u001b[0;36m<module>\u001b[0;34m()\u001b[0m\n\u001b[0;32m----> 1\u001b[0;31m \u001b[0mx1\u001b[0m \u001b[0;34m=\u001b[0m \u001b[0mnp\u001b[0m\u001b[0;34m.\u001b[0m\u001b[0marange\u001b[0m\u001b[0;34m(\u001b[0m\u001b[0;36m0\u001b[0m\u001b[0;34m,\u001b[0m\u001b[0;36m10\u001b[0m\u001b[0;34m)\u001b[0m\u001b[0;34m\u001b[0m\u001b[0m\n\u001b[0m\u001b[1;32m      2\u001b[0m \u001b[0mx2\u001b[0m \u001b[0;34m=\u001b[0m \u001b[0mnp\u001b[0m\u001b[0;34m.\u001b[0m\u001b[0marange\u001b[0m\u001b[0;34m(\u001b[0m\u001b[0;36m0\u001b[0m\u001b[0;34m,\u001b[0m\u001b[0;36m20\u001b[0m\u001b[0;34m,\u001b[0m\u001b[0;36m2\u001b[0m\u001b[0;34m)\u001b[0m\u001b[0;34m\u001b[0m\u001b[0m\n\u001b[1;32m      3\u001b[0m design = pd.DataFrame({'x1':x1,\n\u001b[1;32m      4\u001b[0m                        'x2':x2})\n\u001b[1;32m      5\u001b[0m \u001b[0;32mprint\u001b[0m \u001b[0mdesign\u001b[0m\u001b[0;34m\u001b[0m\u001b[0m\n",
      "\u001b[0;31mNameError\u001b[0m: name 'np' is not defined"
     ]
    }
   ],
   "source": [
    "x1 = np.arange(0,10)\n",
    "x2 = np.arange(0,20,2)\n",
    "design = pd.DataFrame({'x1':x1,\n",
    "                       'x2':x2})\n",
    "print design\n",
    "print\n",
    "print 'Column: ', design.columns[1]\n",
    "print\n",
    "print design['x1']"
   ]
  }
 ],
 "metadata": {
  "kernelspec": {
   "display_name": "Python 2",
   "language": "python",
   "name": "python2"
  },
  "language_info": {
   "codemirror_mode": {
    "name": "ipython",
    "version": 2
   },
   "file_extension": ".py",
   "mimetype": "text/x-python",
   "name": "python",
   "nbconvert_exporter": "python",
   "pygments_lexer": "ipython2",
   "version": "2.7.9"
  }
 },
 "nbformat": 4,
 "nbformat_minor": 0
}
