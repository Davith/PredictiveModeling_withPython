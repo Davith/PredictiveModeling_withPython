{
 "cells": [
  {
   "cell_type": "code",
   "execution_count": 3,
   "metadata": {
    "collapsed": false
   },
   "outputs": [
    {
     "name": "stdout",
     "output_type": "stream",
     "text": [
      "numpy:   1.9.3\n",
      "scipy:   0.16.0\n",
      "pandas:  0.16.2\n",
      "sklearn: 0.16.1\n"
     ]
    }
   ],
   "source": [
    "import numpy;   print 'numpy:  ', numpy.__version__\n",
    "import scipy;   print 'scipy:  ', scipy.__version__\n",
    "import pandas;  print 'pandas: ', pandas.__version__\n",
    "import sklearn; print 'sklearn:', sklearn.__version__"
   ]
  },
  {
   "cell_type": "markdown",
   "metadata": {},
   "source": [
    "The output from the above cell should be something like:\n",
    "\n",
    "'''\n",
    "numpy:   1.9.3\n",
    "scipy:   0.16.0\n",
    "pandas:  0.16.2\n",
    "sklearn: 0.16.1\n",
    "'''"
   ]
  }
 ],
 "metadata": {
  "kernelspec": {
   "display_name": "Python 2",
   "language": "python",
   "name": "python2"
  },
  "language_info": {
   "codemirror_mode": {
    "name": "ipython",
    "version": 2
   },
   "file_extension": ".py",
   "mimetype": "text/x-python",
   "name": "python",
   "nbconvert_exporter": "python",
   "pygments_lexer": "ipython2",
   "version": "2.7.10"
  }
 },
 "nbformat": 4,
 "nbformat_minor": 0
}
